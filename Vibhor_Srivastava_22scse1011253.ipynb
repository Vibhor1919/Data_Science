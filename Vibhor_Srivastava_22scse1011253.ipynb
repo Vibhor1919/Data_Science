{
 "cells": [
  {
   "cell_type": "markdown",
   "id": "f3adb400-b6e5-4d53-bb7d-3345609c5ca4",
   "metadata": {},
   "source": [
    "Write a Python program to take a string input from the user and print its length."
   ]
  },
  {
   "cell_type": "code",
   "execution_count": 1,
   "id": "02522fa3-ae1d-4bac-811c-d6c690381243",
   "metadata": {},
   "outputs": [
    {
     "name": "stdin",
     "output_type": "stream",
     "text": [
      "Enter Your Full Name-  Vibhor Srivastava\n"
     ]
    },
    {
     "name": "stdout",
     "output_type": "stream",
     "text": [
      "Length of the string is-  17\n"
     ]
    }
   ],
   "source": [
    "name = input(\"Enter Your Full Name- \")\n",
    "print(\"Length of the string is- \",len(name))"
   ]
  },
  {
   "cell_type": "markdown",
   "id": "d78e45c8-31a2-48c7-8be0-1dd679edbe1b",
   "metadata": {},
   "source": [
    "Write a Python program to create a list of numbers input by the user and then print the \n",
    "sum of all the numbers in the list"
   ]
  },
  {
   "cell_type": "code",
   "execution_count": 4,
   "id": "b1df3239-6433-42b2-9602-76ba4d40b77b",
   "metadata": {},
   "outputs": [
    {
     "name": "stdin",
     "output_type": "stream",
     "text": [
      "How many numbers do you want to enter in the list-  3\n",
      " 1\n",
      " 2\n",
      " 3\n"
     ]
    },
    {
     "name": "stdout",
     "output_type": "stream",
     "text": [
      "Sum =  6\n"
     ]
    }
   ],
   "source": [
    "from functools import reduce\n",
    "l=[]\n",
    "num_var = int(input(\"How many numbers do you want to enter in the list- \"))\n",
    "for i in range(0,num_var):\n",
    "\tnum = int(input())\n",
    "\tl.append(num)\n",
    "sum = reduce(lambda x,y:x+y,l)\n",
    "print(\"Sum = \",sum)\t"
   ]
  },
  {
   "cell_type": "markdown",
   "id": "112225df-ba76-4eb6-9dec-679f7cbf3702",
   "metadata": {},
   "source": [
    "Write a Python program to create a dictionary where the keys are names of fruits and \n",
    "the values are their respective quantities. Ask the user to input the name of a fruit and \n",
    "then print its quantity from the dictionary"
   ]
  },
  {
   "cell_type": "code",
   "execution_count": 5,
   "id": "7459e4de-d6e8-4e93-99da-30a1b2d03776",
   "metadata": {},
   "outputs": [
    {
     "name": "stdin",
     "output_type": "stream",
     "text": [
      "Enter number of fruits-  3\n",
      "Name of fruit-  Apple\n",
      "Quantity of fruit-  2\n",
      "Name of fruit-  Mango\n",
      "Quantity of fruit-  5\n",
      "Name of fruit-  Kiwi\n",
      "Quantity of fruit-  4\n"
     ]
    },
    {
     "name": "stdout",
     "output_type": "stream",
     "text": [
      "The Dictionary is - \n",
      "{'Apple': 2, 'Mango': 5, 'Kiwi': 4}\n"
     ]
    }
   ],
   "source": [
    "dict ={}\n",
    "num_var = int(input(\"Enter number of fruits- \"))\n",
    "for i in range(0,num_var):\n",
    "\tname = str(input(\"Name of fruit- \"))\n",
    "\tvalue = int(input(\"Quantity of fruit- \"))\n",
    "\tdict[name]= value\n",
    "\n",
    "print(\"The Dictionary is - \")\n",
    "print(dict)\t"
   ]
  },
  {
   "cell_type": "markdown",
   "id": "807194f2-7f22-4a0f-b63b-2f7ab17292a6",
   "metadata": {},
   "source": [
    "Write a Python program to create a tuple containing the names of months. Print the \n",
    "length of the tuple and then print the months in reverse order"
   ]
  },
  {
   "cell_type": "code",
   "execution_count": 6,
   "id": "6cbabad0-1b5f-46b7-b510-04bb8398d737",
   "metadata": {},
   "outputs": [
    {
     "name": "stdout",
     "output_type": "stream",
     "text": [
      "Length of tuple is - 12\n",
      "('December', 'November', 'October', 'September', 'August', 'July', 'June', 'May', 'April', 'March', 'Feburary', 'January')\n"
     ]
    }
   ],
   "source": [
    "months =('January','Feburary','March','April','May','June','July','August','September','October','November','December')\n",
    "print('Length of tuple is -',len(months))\n",
    "print(months[::-1])"
   ]
  },
  {
   "cell_type": "markdown",
   "id": "f3cd8137-37b2-4e82-afbd-e06b7d92a1a0",
   "metadata": {},
   "source": [
    "Write a Python program to create two sets of numbers input by the user and then \n",
    "perform set operations like union, intersection, and difference between the two sets."
   ]
  },
  {
   "cell_type": "code",
   "execution_count": 7,
   "id": "a9444135-6b0d-4f09-8e79-ee4f2f3ef371",
   "metadata": {},
   "outputs": [
    {
     "name": "stdin",
     "output_type": "stream",
     "text": [
      "Enter numbers for the first set (separated by comma):  1,2,3,4,5,6,0\n",
      "Enter numbers for the second set (separated by comma):  7,8,9,0,1\n"
     ]
    },
    {
     "name": "stdout",
     "output_type": "stream",
     "text": [
      "Union of the two sets: {0, 1, 2, 3, 4, 5, 6, 7, 8, 9}\n",
      "Intersection of the two sets: {0, 1}\n",
      "Difference of the first set from the second set: {2, 3, 4, 5, 6}\n",
      "Difference of the second set from the first set: {8, 9, 7}\n"
     ]
    }
   ],
   "source": [
    "set1_input = input(\"Enter numbers for the first set (separated by comma): \")\n",
    "set1 = set(map(int, set1_input.split(',')))\n",
    "\n",
    "set2_input = input(\"Enter numbers for the second set (separated by comma): \")\n",
    "set2 = set(map(int, set2_input.split(',')))\n",
    "\n",
    "union_set = set1.union(set2)\n",
    "intersection_set = set1.intersection(set2)\n",
    "difference_set1_set2 = set1.difference(set2)\n",
    "difference_set2_set1 = set2.difference(set1)\n",
    "    \n",
    "print(\"Union of the two sets:\", union_set)\n",
    "print(\"Intersection of the two sets:\", intersection_set)\n",
    "print(\"Difference of the first set from the second set:\", difference_set1_set2)\n",
    "print(\"Difference of the second set from the first set:\", difference_set2_set1)"
   ]
  },
  {
   "cell_type": "markdown",
   "id": "36bbee16-f0db-44bb-a700-2d5659822584",
   "metadata": {},
   "source": [
    "Write a Python program to perform arithmetic operations (addition, subtraction, \n",
    "multiplication, division) on two numbers input by the user"
   ]
  },
  {
   "cell_type": "code",
   "execution_count": 8,
   "id": "7bb43177-adb2-4dd9-abcd-23b4f7b8a7f2",
   "metadata": {},
   "outputs": [
    {
     "name": "stdin",
     "output_type": "stream",
     "text": [
      "Input first number-  9\n",
      "Input second number-  3\n"
     ]
    },
    {
     "name": "stdout",
     "output_type": "stream",
     "text": [
      "Addition=  12\n",
      "Substraction =  6\n",
      "Multiplication =  27\n",
      "Division =  3.0\n"
     ]
    }
   ],
   "source": [
    "a = int(input(\"Input first number- \"))\n",
    "b = int(input(\"Input second number- \"))\n",
    "print(\"Addition= \",a+b)\n",
    "print(\"Substraction = \",a-b)\n",
    "print(\"Multiplication = \",a*b)\n",
    "print (\"Division = \",a/b)"
   ]
  },
  {
   "cell_type": "markdown",
   "id": "617e37b0-0e94-479b-aa9f-f5ca12cb9bd6",
   "metadata": {},
   "source": [
    "Write a Python program to compare two numbers input by the user and print whether \n",
    "the first number is greater than, less than, or equal to the second number"
   ]
  },
  {
   "cell_type": "code",
   "execution_count": 9,
   "id": "da9ed11c-ad26-497a-a465-b409786b1cab",
   "metadata": {},
   "outputs": [
    {
     "name": "stdin",
     "output_type": "stream",
     "text": [
      "Enter first number-  3\n",
      "Enter second number-  4\n"
     ]
    },
    {
     "name": "stdout",
     "output_type": "stream",
     "text": [
      "4  is greater\n"
     ]
    }
   ],
   "source": [
    "a = int(input(\"Enter first number- \"))\n",
    "b = int(input(\"Enter second number- \"))\n",
    "if a>b:\n",
    "\tprint(a,\" is greater\")\n",
    "elif b>a:\n",
    "    print(b,\" is greater\")\n",
    "else:\n",
    "    print(\"Both are equal\") \t"
   ]
  },
  {
   "cell_type": "markdown",
   "id": "957935b5-e0fc-4e2f-889c-78c635132f33",
   "metadata": {},
   "source": [
    "Write a Python program to check if a number input by the user is between 10 and 20 \n",
    "(inclusive) using logical operators."
   ]
  },
  {
   "cell_type": "code",
   "execution_count": 10,
   "id": "dae7a708-e99e-417b-a898-34e270a01b22",
   "metadata": {},
   "outputs": [
    {
     "name": "stdin",
     "output_type": "stream",
     "text": [
      "Enter number-  14\n"
     ]
    },
    {
     "name": "stdout",
     "output_type": "stream",
     "text": [
      "True\n"
     ]
    }
   ],
   "source": [
    "a = int(input(\"Enter number- \"))\n",
    "if a>=10 and a<=20:\n",
    "\tprint(\"True\")\n",
    "else:\n",
    " print(\"False\")\t"
   ]
  },
  {
   "cell_type": "markdown",
   "id": "d9506830-b66a-4420-8f00-14396cef6af2",
   "metadata": {},
   "source": [
    "Write a Python program to demonstrate the usage of compound assignment operators \n",
    "by performing operations like +=, -=, *=, /= on a variable.\n"
   ]
  },
  {
   "cell_type": "code",
   "execution_count": 11,
   "id": "b7bc6e74-47e5-4f5f-843d-a8e815f43808",
   "metadata": {},
   "outputs": [
    {
     "name": "stdout",
     "output_type": "stream",
     "text": [
      "300\n",
      "-100\n",
      "-30000\n",
      "30000\n",
      "100.0\n"
     ]
    }
   ],
   "source": [
    "a = 100\n",
    "b = 200\n",
    "a += b\n",
    "print(a)\n",
    "b -= a\n",
    "print(b)\n",
    "b *= a\n",
    "print(b)\n",
    "b *= -1\n",
    "print (b)\n",
    "b /= a\n",
    "print(b)"
   ]
  },
  {
   "cell_type": "markdown",
   "id": "ec42cc1c-94d7-4a58-a3ad-460f23fc7c4b",
   "metadata": {},
   "source": [
    "Write a Python program to perform bitwise AND, OR, XOR, and complement \n",
    "operations on two integers input by the user."
   ]
  },
  {
   "cell_type": "code",
   "execution_count": 12,
   "id": "2f2fb3ed-1c16-46bd-8049-6ff8e145e254",
   "metadata": {},
   "outputs": [
    {
     "name": "stdin",
     "output_type": "stream",
     "text": [
      "Enter first number-   3\n",
      "Enter second number-  4\n"
     ]
    },
    {
     "name": "stdout",
     "output_type": "stream",
     "text": [
      "a & b =  0\n",
      "a | b =  7\n",
      "a ^ b =  7\n",
      "~a =  -4\n"
     ]
    }
   ],
   "source": [
    "a = int(input(\"Enter first number-  \"))\n",
    "b= int(input(\"Enter second number- \"))\n",
    "print (\"a & b = \",a&b)\n",
    "print(\"a | b = \",a|b)\n",
    "print(\"a ^ b = \",a^b)\n",
    "print(\"~a = \",~a)"
   ]
  },
  {
   "cell_type": "markdown",
   "id": "a00a905a-7b0c-48a8-9293-83f48db1f38e",
   "metadata": {},
   "source": [
    "Write a Python program to create a tuple containing the following elements: 10, 20, \n",
    "30, 40, 50. Then, print the element at index 3."
   ]
  },
  {
   "cell_type": "code",
   "execution_count": 13,
   "id": "7f9ced13-7260-4303-99f7-9558e3f55991",
   "metadata": {},
   "outputs": [
    {
     "name": "stdout",
     "output_type": "stream",
     "text": [
      "40\n"
     ]
    }
   ],
   "source": [
    "tp = (10,20,30,40,50)\n",
    "print(tp[3])"
   ]
  },
  {
   "cell_type": "markdown",
   "id": "a272cb76-c599-435c-8656-11be640f243c",
   "metadata": {},
   "source": [
    "Write a Python program to concatenate two tuples (1, 2, 3) and (4, 5, 6) into a single \n",
    "tuple"
   ]
  },
  {
   "cell_type": "code",
   "execution_count": 14,
   "id": "592754fe-26bb-40a9-87a5-1d665c763569",
   "metadata": {},
   "outputs": [
    {
     "name": "stdout",
     "output_type": "stream",
     "text": [
      "(1, 2, 3, 4, 5, 6)\n"
     ]
    }
   ],
   "source": [
    "tp1=(1,2,3)\n",
    "tp2=(4,5,6)\n",
    "tp3= (tp1 + tp2)\n",
    "print(tp3)"
   ]
  },
  {
   "cell_type": "markdown",
   "id": "f188710d-e6c3-48c8-a7c1-799cb8a21df3",
   "metadata": {},
   "source": [
    "Write a Python program to find the number of elements in the tuple (10, 20, 30, 40, \n",
    "50)"
   ]
  },
  {
   "cell_type": "code",
   "execution_count": 15,
   "id": "21e22cce-ce4b-46b7-ab28-fcf4f31882bb",
   "metadata": {},
   "outputs": [
    {
     "name": "stdout",
     "output_type": "stream",
     "text": [
      "5\n"
     ]
    }
   ],
   "source": [
    "tp = (10,20,30,40,50)\n",
    "print(len(tp))"
   ]
  },
  {
   "cell_type": "markdown",
   "id": "52fd6ae0-7465-45ad-81fa-7638f765b60d",
   "metadata": {},
   "source": [
    "Write a Python program to sort the tuple (5, 3, 8, 2, 7) in ascending order and store \n",
    "the result in a new tuple."
   ]
  },
  {
   "cell_type": "code",
   "execution_count": 16,
   "id": "8a30987a-0aec-47f7-a103-23191d23a6e0",
   "metadata": {},
   "outputs": [
    {
     "name": "stdout",
     "output_type": "stream",
     "text": [
      "[2, 3, 5, 7, 8]\n"
     ]
    }
   ],
   "source": [
    "tp1=(5,3,8,2,7)\n",
    "print(sorted(tp1))"
   ]
  },
  {
   "cell_type": "markdown",
   "id": "0f1b172d-6f34-4dda-bdeb-fb0b50c8673e",
   "metadata": {},
   "source": [
    "Write a Python program to create a list containing the following elements: 10, 20, 30, \n",
    "40, 50. Then, print the element at index 2.\n"
   ]
  },
  {
   "cell_type": "code",
   "execution_count": 17,
   "id": "0f267a67-b7ec-4f40-bd5d-36d19643404e",
   "metadata": {},
   "outputs": [
    {
     "name": "stdout",
     "output_type": "stream",
     "text": [
      "30\n"
     ]
    }
   ],
   "source": [
    "l = [10,20,30,40,50]\n",
    "print(l[2])"
   ]
  },
  {
   "cell_type": "markdown",
   "id": "bd8b1378-d610-4722-bd6c-3ca41eb2ff88",
   "metadata": {},
   "source": [
    "Write a Python program to append the element 60 to the end of the list [10, 20, 30, \n",
    "40, 50].\n"
   ]
  },
  {
   "cell_type": "code",
   "execution_count": 18,
   "id": "ac67fc2c-39fa-428a-a4da-c88c18c66d39",
   "metadata": {},
   "outputs": [
    {
     "name": "stdout",
     "output_type": "stream",
     "text": [
      "[10, 20, 30, 40, 50, 60]\n"
     ]
    }
   ],
   "source": [
    "l  =[10,20,30,40,50]\n",
    "l.append(60)\n",
    "print(l)"
   ]
  },
  {
   "cell_type": "markdown",
   "id": "be44d4fe-ac52-4bfa-ac3f-7172eb3cfd18",
   "metadata": {},
   "source": [
    "You are developing a student management system for a school. How would you use a \n",
    "dictionary to store student records, where each student's name is a key and their \n",
    "details (such as age, grade, and subjects) are stored as values? Write functions to add \n",
    "new students, update their information, and retrieve student details."
   ]
  },
  {
   "cell_type": "code",
   "execution_count": 21,
   "id": "04a0d454-c78b-4351-a81e-b915c56e3751",
   "metadata": {},
   "outputs": [
    {
     "name": "stdout",
     "output_type": "stream",
     "text": [
      "John has been successfully added to the student records.\n",
      "Alice has been successfully added to the student records.\n",
      "John's information has been successfully updated.\n",
      "Alice's information has been successfully updated.\n",
      "Name: John\n",
      "Age: 16\n",
      "Grade: 11\n",
      "Subjects: Math, Science, History\n",
      "Name: Alice\n",
      "Age: 14\n",
      "Grade: 9\n",
      "Subjects: English, Physics, Geography, Chemistry\n",
      "Bob does not exist in the student records.\n"
     ]
    }
   ],
   "source": [
    "student_records = {}\n",
    "def add_student(name, age, grade, subjects):\n",
    "    if name not in student_records:\n",
    "        student_records[name] = {'age': age, 'grade': grade, 'subjects': subjects}\n",
    "        print(f\"{name} has been successfully added to the student records.\")\n",
    "    else:\n",
    "        print(f\"{name} already exists in the student records.\")\n",
    "\n",
    "def update_student(name, **kwargs):\n",
    "    if name in student_records:\n",
    "        student_records[name].update(kwargs)\n",
    "        print(f\"{name}'s information has been successfully updated.\")\n",
    "    else:\n",
    "        print(f\"{name} does not exist in the student records.\")\n",
    "\n",
    "def get_student_details(name):\n",
    "    if name in student_records:\n",
    "        print(f\"Name: {name}\")\n",
    "        print(f\"Age: {student_records[name]['age']}\")\n",
    "        print(f\"Grade: {student_records[name]['grade']}\")\n",
    "        print(f\"Subjects: {', '.join(student_records[name]['subjects'])}\")\n",
    "    else:\n",
    "        print(f\"{name} does not exist in the student records.\")\n",
    "\n",
    "add_student(\"John\", 15, 10, [\"Math\", \"Science\", \"History\"])\n",
    "add_student(\"Alice\", 14, 9, [\"English\", \"Physics\", \"Geography\"])\n",
    "\n",
    "update_student(\"John\", age=16, grade=11)\n",
    "update_student(\"Alice\", subjects=[\"English\", \"Physics\", \"Geography\", \"Chemistry\"])\n",
    "\n",
    "get_student_details(\"John\")\n",
    "get_student_details(\"Alice\")\n",
    "get_student_details(\"Bob\")  # Bob does not exist in the records"
   ]
  },
  {
   "cell_type": "markdown",
   "id": "ece5ed11-4a2e-43fe-8edf-55d5320c732d",
   "metadata": {},
   "source": [
    "You are developing an employee directory for a company. How would you use a \n",
    "dictionary to store employee information, where each employee's ID is a key and \n",
    "their details (such as name, department, and contact information) are stored as \n",
    "values? Write functions to add new employees, update their details, and search for \n",
    "employees by ID or name."
   ]
  },
  {
   "cell_type": "code",
   "execution_count": 22,
   "id": "6e34beb3-cf61-4acd-89df-abeb84b36f78",
   "metadata": {},
   "outputs": [
    {
     "name": "stdout",
     "output_type": "stream",
     "text": [
      "Employee with ID 1001 has been successfully added to the directory.\n",
      "Employee with ID 1002 has been successfully added to the directory.\n",
      "Employee with ID 1001's information has been successfully updated.\n",
      "{'name': 'John Doe', 'department': 'HR', 'contact_info': 'john.doe@newemail.com'}\n",
      "{'name': 'Alice Smith', 'department': 'Marketing', 'contact_info': 'alice.smith@example.com'}\n",
      "No employee with the name 'Bob Johnson' found in the directory.\n",
      "None\n"
     ]
    }
   ],
   "source": [
    "employee_directory = {}\n",
    "\n",
    "def add_employee(employee_id, name, department, contact_info):\n",
    "    if employee_id not in employee_directory:\n",
    "        employee_directory[employee_id] = {'name': name, 'department': department, 'contact_info': contact_info}\n",
    "        print(f\"Employee with ID {employee_id} has been successfully added to the directory.\")\n",
    "    else:\n",
    "        print(f\"Employee with ID {employee_id} already exists in the directory.\")\n",
    "\n",
    "def update_employee(employee_id, **kwargs):\n",
    "    if employee_id in employee_directory:\n",
    "        employee_directory[employee_id].update(kwargs)\n",
    "        print(f\"Employee with ID {employee_id}'s information has been successfully updated.\")\n",
    "    else:\n",
    "        print(f\"Employee with ID {employee_id} does not exist in the directory.\")\n",
    "\n",
    "def search_employee_by_id(employee_id):\n",
    "    if employee_id in employee_directory:\n",
    "        return employee_directory[employee_id]\n",
    "    else:\n",
    "        print(f\"Employee with ID {employee_id} does not exist in the directory.\")\n",
    "        return None\n",
    "\n",
    "def search_employee_by_name(name):\n",
    "    for employee_id, details in employee_directory.items():\n",
    "        if details['name'] == name:\n",
    "            return details\n",
    "    print(f\"No employee with the name '{name}' found in the directory.\")\n",
    "    return None\n",
    "\n",
    "add_employee(1001, \"John Doe\", \"Engineering\", \"john.doe@example.com\")\n",
    "add_employee(1002, \"Alice Smith\", \"Marketing\", \"alice.smith@example.com\")\n",
    "\n",
    "update_employee(1001, department=\"HR\", contact_info=\"john.doe@newemail.com\")\n",
    "\n",
    "print(search_employee_by_id(1001))\n",
    "print(search_employee_by_name(\"Alice Smith\"))\n",
    "print(search_employee_by_name(\"Bob Johnson\"))"
   ]
  },
  {
   "cell_type": "markdown",
   "id": "91df95b5-1eef-4147-bcbd-83571adb1d0b",
   "metadata": {},
   "source": [
    "You are building an inventory management system for a grocery store. How would \n",
    "you use a dictionary to represent the inventory, with each item as a key and its \n",
    "quantity as the corresponding value? Write a function to update the inventory when \n",
    "new items are purchased or sold."
   ]
  },
  {
   "cell_type": "code",
   "execution_count": 23,
   "id": "e1917315-7018-4d81-8919-6135d148b0c9",
   "metadata": {},
   "outputs": [
    {
     "name": "stdout",
     "output_type": "stream",
     "text": [
      "Current Inventory:\n",
      "Apples: 5\n",
      "Bananas: 20\n"
     ]
    }
   ],
   "source": [
    "inventory = {}\n",
    "\n",
    "def update_inventory(item, quantity):\n",
    "    if item in inventory:\n",
    "        inventory[item] += quantity\n",
    "    else:\n",
    "        inventory[item] = quantity\n",
    "\n",
    "update_inventory(\"Apples\", 10)  # Purchased 10 apples\n",
    "update_inventory(\"Bananas\", 20) # Purchased 20 bananas\n",
    "update_inventory(\"Apples\", -5)  # Sold 5 apples\n",
    "\n",
    "print(\"Current Inventory:\")\n",
    "for item, quantity in inventory.items():\n",
    "    print(f\"{item}: {quantity}\")"
   ]
  },
  {
   "cell_type": "markdown",
   "id": "a5135db0-ca15-47ce-bbd3-076eac3a71f1",
   "metadata": {},
   "source": [
    "Write a Python program to create a dictionary containing the following key-value \n",
    "pairs: 'apple': 3, 'banana': 5, 'orange': 2. Then, print the value associated with the key \n",
    "'banana'"
   ]
  },
  {
   "cell_type": "code",
   "execution_count": 24,
   "id": "c1b96625-dbf4-4105-974b-dc70c5c511a1",
   "metadata": {},
   "outputs": [
    {
     "name": "stdout",
     "output_type": "stream",
     "text": [
      "The quantity of bananas in the inventory: 5\n"
     ]
    }
   ],
   "source": [
    "fruit_inventory = {'apple': 3, 'banana': 5, 'orange': 2}\n",
    "print(\"The quantity of bananas in the inventory:\", fruit_inventory['banana'])"
   ]
  },
  {
   "cell_type": "markdown",
   "id": "ca304f6e-253f-4659-868a-3615423f244b",
   "metadata": {},
   "source": [
    "Write a Python program to iterate over the following dictionary {'apple': 3, 'banana': \n",
    "5, 'orange': 2} and print each key-value pair."
   ]
  },
  {
   "cell_type": "code",
   "execution_count": 26,
   "id": "96d26209-b3d1-4135-98ec-22483ff3f928",
   "metadata": {},
   "outputs": [
    {
     "name": "stdout",
     "output_type": "stream",
     "text": [
      "Fruit: apple, Quantity: 3\n",
      "Fruit: banana, Quantity: 5\n",
      "Fruit: orange, Quantity: 2\n"
     ]
    }
   ],
   "source": [
    "fruit_inventory = {'apple': 3, 'banana': 5, 'orange': 2}\n",
    "for fruit, quantity in fruit_inventory.items():\n",
    "    print(f\"Fruit: {fruit}, Quantity: {quantity}\")"
   ]
  },
  {
   "cell_type": "markdown",
   "id": "d02b1899-dbab-46b8-a558-8347ec20a313",
   "metadata": {},
   "source": [
    "Write a Python program to find the number of key-value pairs in the dictionary \n",
    "{'apple': 3, 'banana': 5, 'orange': 2}."
   ]
  },
  {
   "cell_type": "code",
   "execution_count": 27,
   "id": "47e24885-c4aa-4888-b1a0-e97e5815e19e",
   "metadata": {},
   "outputs": [
    {
     "name": "stdout",
     "output_type": "stream",
     "text": [
      "Number of key-value pairs in the dictionary: 3\n"
     ]
    }
   ],
   "source": [
    "fruit_inventory = {'apple': 3, 'banana': 5, 'orange': 2}\n",
    "num_pairs = len(fruit_inventory)\n",
    "print(\"Number of key-value pairs in the dictionary:\", num_pairs)"
   ]
  },
  {
   "cell_type": "markdown",
   "id": "79088533-1656-4068-bc03-7d369bb9f869",
   "metadata": {},
   "source": [
    "Write a Python program to update the value of 'banana' to 7 in the dictionary {'apple': \n",
    "3, 'banana': 5, 'orange': 2}.\n"
   ]
  },
  {
   "cell_type": "code",
   "execution_count": 28,
   "id": "775e104d-d3df-4a11-8370-bda9b0984e0b",
   "metadata": {},
   "outputs": [
    {
     "name": "stdout",
     "output_type": "stream",
     "text": [
      "Updated dictionary: {'apple': 3, 'banana': 7, 'orange': 2}\n"
     ]
    }
   ],
   "source": [
    "fruit_inventory = {'apple': 3, 'banana': 5, 'orange': 2}\n",
    "fruit_inventory['banana'] = 7\n",
    "print(\"Updated dictionary:\", fruit_inventory)"
   ]
  },
  {
   "cell_type": "markdown",
   "id": "6ae2bb27-f0dc-4a5d-a969-5cb64205a727",
   "metadata": {},
   "source": [
    "Write a Python program to remove the key-value pair 'orange': 2 from the dictionary \n",
    "{'apple': 3, 'banana': 5, 'orange': 2}."
   ]
  },
  {
   "cell_type": "code",
   "execution_count": 29,
   "id": "54a07f8e-ac72-4865-9be3-eaa15f6c9a98",
   "metadata": {},
   "outputs": [
    {
     "name": "stdout",
     "output_type": "stream",
     "text": [
      "Updated dictionary: {'apple': 3, 'banana': 5}\n"
     ]
    }
   ],
   "source": [
    "fruit_inventory = {'apple': 3, 'banana': 5, 'orange': 2}\n",
    "del fruit_inventory['orange']\n",
    "print(\"Updated dictionary:\", fruit_inventory)"
   ]
  },
  {
   "cell_type": "markdown",
   "id": "3547a44a-9006-4465-a195-53f46ae77ee7",
   "metadata": {},
   "source": [
    "Write a Python program to sort the dictionary {'apple': 3, 'banana': 5, 'orange': 2} \n",
    "based on the values in ascending order"
   ]
  },
  {
   "cell_type": "code",
   "execution_count": 34,
   "id": "32826d99-6280-448f-9365-d874f11f0056",
   "metadata": {},
   "outputs": [
    {
     "name": "stdout",
     "output_type": "stream",
     "text": [
      "Sorted dictionary: [('orange', 2), ('apple', 3), ('banana', 5)]\n"
     ]
    }
   ],
   "source": [
    "my_dict = {'apple': 3, 'banana': 5, 'orange': 2}\n",
    "sorted_dict = sorted(my_dict.items(), key=lambda item: item[1])\n",
    "print(\"Sorted dictionary:\", sorted_dict)"
   ]
  }
 ],
 "metadata": {
  "kernelspec": {
   "display_name": "Python 3 (ipykernel)",
   "language": "python",
   "name": "python3"
  },
  "language_info": {
   "codemirror_mode": {
    "name": "ipython",
    "version": 3
   },
   "file_extension": ".py",
   "mimetype": "text/x-python",
   "name": "python",
   "nbconvert_exporter": "python",
   "pygments_lexer": "ipython3",
   "version": "3.12.0"
  }
 },
 "nbformat": 4,
 "nbformat_minor": 5
}
