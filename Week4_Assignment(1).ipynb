{
 "cells": [
  {
   "cell_type": "markdown",
   "id": "1a081b07-ee4f-4d20-9615-b8a207d99c5e",
   "metadata": {},
   "source": [
    "Q1. Explain Class and Object with respect to Object-Oriented Programming. Give a suitable example."
   ]
  },
  {
   "cell_type": "markdown",
   "id": "f819e82f-7cfd-4994-8891-7e985f2e5b83",
   "metadata": {},
   "source": [
    "Class is a blueprint or a template for creating objects (instances of a class). It defines a set of attributes (properties) and behaviors (methods) that are common to all objects of that class. In object-oriented programming, a class encapsulates the data and the functions that operate on that data.\n",
    "\n",
    "An Object, on the other hand, is an instance of a class. It represents a specific entity with its own property values and methods. Objects are instances of classes, created at runtime.\n",
    "\n",
    "For example :-"
   ]
  },
  {
   "cell_type": "code",
   "execution_count": 2,
   "id": "e2821645-7f6f-4204-817a-619d7f73affd",
   "metadata": {},
   "outputs": [
    {
     "data": {
      "text/plain": [
       "('Vibhor', 'vibhor@gmail.com', 19)"
      ]
     },
     "execution_count": 2,
     "metadata": {},
     "output_type": "execute_result"
    }
   ],
   "source": [
    "class pwskills:\n",
    "    def __init__(self,name,email_id,student_id):\n",
    "        self.name=name\n",
    "        self.email_id=email_id\n",
    "        self.student_id=student_id\n",
    "    def student_details(self):\n",
    "        return self.name,self.email_id,self.student_id\n",
    "\n",
    "obj = pwskills(\"Vibhor\",\"vibhor@gmail.com\",19)\n",
    "obj.student_details()\n",
    "# Here class is pwskills\n",
    "# obj is created below with variable name as obj"
   ]
  },
  {
   "cell_type": "markdown",
   "id": "ea2f58c2-a350-4b8e-9ecd-90cda2045e73",
   "metadata": {},
   "source": [
    "Q2. Name the four pillars of OOPs."
   ]
  },
  {
   "cell_type": "markdown",
   "id": "c9467d15-9bef-4d0f-b158-1a2c96de1dd8",
   "metadata": {},
   "source": [
    "Abstraction: This refers to the process of hiding the implementation details of an object and exposing only the necessary information to the users.\n",
    "\n",
    "Encapsulation: This refers to the wrapping of data (properties) and functions (methods) into a single unit or object. It ensures that the internal representation of an object is hidden from the outside world and can only be accessed through a well-defined interface.\n",
    "\n",
    "Inheritance: This refers to the ability of a new class to inherit the properties and behaviors of an existing class. The new class is called a subclass or derived class, and the existing class is called a superclass or base class.\n",
    "\n",
    "Polymorphism: This refers to the ability of objects to take on multiple forms. In OOP, polymorphism is achieved through method overriding and method overloading. It allows objects of different classes to be treated as objects of the same class, enabling code reusability and making the code more flexible and easier to maintain."
   ]
  },
  {
   "cell_type": "markdown",
   "id": "eb2863f2-759f-40c0-8d59-e6d05bd1677d",
   "metadata": {},
   "source": [
    "Q3. Explain why the __init__() function is used. Give a suitable example."
   ]
  },
  {
   "cell_type": "markdown",
   "id": "ac349b77-58cf-4015-8563-f522c497f55d",
   "metadata": {},
   "source": [
    "The init() function is a special method in Python classes, also known as the constructor method. It is automatically called when an object of the class is created. The primary purpose of the init() function is to initialize the object's attributes or properties with the values passed as arguments when the object is created."
   ]
  },
  {
   "cell_type": "code",
   "execution_count": 3,
   "id": "f214c1fd-9b92-4898-885a-996bd3d127d1",
   "metadata": {},
   "outputs": [],
   "source": [
    "class vehicle:\n",
    "    def __init__(self,name,model,year):\n",
    "        self.name=name\n",
    "        self.model=model\n",
    "        self.year=year\n",
    "    def display(self):\n",
    "        return self.name,self.model,self.year"
   ]
  },
  {
   "cell_type": "code",
   "execution_count": 4,
   "id": "f7aa6bf8-3203-4d89-98a9-02960b734e68",
   "metadata": {},
   "outputs": [
    {
     "data": {
      "text/plain": [
       "('Elentra', 'E2U4C', 2018)"
      ]
     },
     "execution_count": 4,
     "metadata": {},
     "output_type": "execute_result"
    }
   ],
   "source": [
    "hyundai = vehicle(\"Elentra\",\"E2U4C\",2018)\n",
    "hyundai.display()"
   ]
  },
  {
   "cell_type": "markdown",
   "id": "4bef2ac0-2941-4c57-9225-5c9eacbc28c0",
   "metadata": {},
   "source": [
    "Q4. Why self is used in OOPs?"
   ]
  },
  {
   "cell_type": "markdown",
   "id": "714f92e1-636f-49f4-b9de-52a9c6388a8d",
   "metadata": {},
   "source": [
    "self represents the instance of the class. By using the “self” we can access the attributes and methods of the class in python. It binds the attributes with the given arguments.\n",
    "\n",
    "The reason we need to use self. is because Python does not use the @ syntax to refer to instance attributes. Python decided to do methods in a way that makes the instance to which the method belongs be passed automatically, but not received automatically: the first parameter of methods is the instance the method is called on.\n",
    "\n",
    "In more clear way you can say that self has following Characteristic-\n",
    "\n",
    "self is always pointing to Current Object.\n",
    "self is the first argument to be passed in Constructor and Instance Method.\n",
    "self must be provided as a First parameter to the Instance method and constructor. If you don’t provide it, it will cause an error.\n",
    "self is a convention and not a Python keyword.\n",
    "self is parameter in Instance Method and user can use another parameter name in place of it. But it is advisable to use self because it increases the readability of code, and it is also a good programming practice."
   ]
  },
  {
   "cell_type": "markdown",
   "id": "cf861490-8c6b-4622-ad4e-6b396b10566e",
   "metadata": {},
   "source": [
    "Q5. What is inheritance? Give an example for each type of inheritance."
   ]
  },
  {
   "cell_type": "markdown",
   "id": "0723374d-0245-4d60-b2cf-e5af289fe224",
   "metadata": {},
   "source": [
    "Inheritance is a mechanism in object-oriented programming (OOP) that allows a new class to be created based on an existing class."
   ]
  },
  {
   "cell_type": "code",
   "execution_count": 5,
   "id": "701d3b0e-5b2c-4bac-93c2-008df0d5c080",
   "metadata": {},
   "outputs": [
    {
     "name": "stdout",
     "output_type": "stream",
     "text": [
      "Amazon is an Online Ecommerce Store\n",
      "Ebay is an Online Store\n",
      "OLX is an Online Buy Sell Store\n"
     ]
    }
   ],
   "source": [
    "### 1. Single Inheritance : When child class is derived from only one parent class. This is called single inheritance\n",
    "\n",
    "# Single Inheritance Example\n",
    "class Brands:               #parent_class\n",
    "    brand_name_1 = \"Amazon\"\n",
    "    brand_name_2 = \"Ebay\"\n",
    "    brand_name_3 = \"OLX\"\n",
    "    \n",
    "class Products(Brands):       #child_class\n",
    "    prod_1 = \"Online Ecommerce Store\"\n",
    "    prod_2 = \"Online Store\"\n",
    "    prod_3 = \"Online Buy Sell Store\"\n",
    "    \n",
    "obj_1 = Products()          #Object_creation\n",
    "print(obj_1.brand_name_1+\" is an \"+obj_1.prod_1)\n",
    "print(obj_1.brand_name_2+\" is an \"+obj_1.prod_2)\n",
    "print(obj_1.brand_name_3+\" is an \"+obj_1.prod_3)"
   ]
  },
  {
   "cell_type": "code",
   "execution_count": 6,
   "id": "ec8bb1c9-ae45-4c69-b6d5-d0bd7d0ed217",
   "metadata": {},
   "outputs": [
    {
     "name": "stdout",
     "output_type": "stream",
     "text": [
      "Amazon is an Online Ecommerce Store with popularity = 100\n",
      "Ebay is an Online Store with popularity = 70\n",
      "OLX is an Online Buy Sell Store with popularity = 60\n"
     ]
    }
   ],
   "source": [
    "### 2. Multiple Inheritance: When child class is derived or inherited from more than one parent class. This is called multiple inheritance. In multiple inheritance, we have two parent classes/base classes and one child class that inherits both parent classes properties.\n",
    "\n",
    "\n",
    "#example_of_multiple_inheritance\n",
    "\n",
    "class Brands:               #parent_class_1\n",
    "    brand_name_1 = \"Amazon\"\n",
    "    brand_name_2 = \"Ebay\"\n",
    "    brand_name_3 = \"OLX\"\n",
    "    \n",
    "class Products:             #parent_class_2\n",
    "    prod_1 = \"Online Ecommerce Store\"\n",
    "    prod_2 = \"Online Store\"\n",
    "    prod_3 = \"Online Buy Sell Store\"\n",
    "\n",
    "class Popularity(Brands,Products): #child class created from parent class 1 and parent class 2\n",
    "    prod_1_popularity = 100\n",
    "    prod_2_popularity = 70\n",
    "    prod_3_popularity = 60\n",
    "    \n",
    "obj_1 = Popularity()          #Object_creation\n",
    "print(obj_1.brand_name_1+\" is an \"+obj_1.prod_1 +\" with popularity = \"+str(obj_1.prod_1_popularity))\n",
    "print(obj_1.brand_name_2+\" is an \"+obj_1.prod_2 +\" with popularity = \"+str(obj_1.prod_2_popularity))\n",
    "print(obj_1.brand_name_3+\" is an \"+obj_1.prod_3 +\" with popularity = \"+str(obj_1.prod_3_popularity))"
   ]
  },
  {
   "cell_type": "code",
   "execution_count": 7,
   "id": "f2f21fc1-3608-4481-9012-39de1217949d",
   "metadata": {},
   "outputs": [
    {
     "name": "stdout",
     "output_type": "stream",
     "text": [
      "Amazon is an Online Ecommerce Store popularity of 100\n",
      "Ebay is an Online Store popularity of 70\n",
      "OLX is an Online Buy Sell Store popularity of 60\n"
     ]
    }
   ],
   "source": [
    "### 3. Multilevel Inheritance: In multilevel inheritance, we have one parent class and child class that is derived or inherited from that parent class. We have a grand-child class that is derived from the child class.\n",
    "\n",
    "#example_of_multilevel_inheritance\n",
    "\n",
    "class Brands:                      #parent_class\n",
    "    brand_name_1 = \"Amazon\"\n",
    "    brand_name_2 = \"Ebay\"\n",
    "    brand_name_3 = \"OLX\"\n",
    "    \n",
    "class Products(Brands):            #child_class\n",
    "    prod_1 = \"Online Ecommerce Store\"\n",
    "    prod_2 = \"Online Store\"\n",
    "    prod_3 = \"Online Buy Sell Store\"\n",
    "\n",
    "class Popularity(Products):        #grand_child_class\n",
    "    prod_1_popularity = 100\n",
    "    prod_2_popularity = 70\n",
    "    prod_3_popularity = 60\n",
    "    \n",
    "    \n",
    "obj_1 = Popularity()          #Object_creation\n",
    "print(obj_1.brand_name_1+\" is an \"+obj_1.prod_1+\" popularity of \"+str(obj_1.prod_1_popularity))\n",
    "print(obj_1.brand_name_2+\" is an \"+obj_1.prod_2+\" popularity of \"+str(obj_1.prod_2_popularity))\n",
    "print(obj_1.brand_name_3+\" is an \"+obj_1.prod_3+\" popularity of \"+str(obj_1.prod_3_popularity))"
   ]
  }
 ],
 "metadata": {
  "kernelspec": {
   "display_name": "Python 3 (ipykernel)",
   "language": "python",
   "name": "python3"
  },
  "language_info": {
   "codemirror_mode": {
    "name": "ipython",
    "version": 3
   },
   "file_extension": ".py",
   "mimetype": "text/x-python",
   "name": "python",
   "nbconvert_exporter": "python",
   "pygments_lexer": "ipython3",
   "version": "3.12.0"
  }
 },
 "nbformat": 4,
 "nbformat_minor": 5
}
