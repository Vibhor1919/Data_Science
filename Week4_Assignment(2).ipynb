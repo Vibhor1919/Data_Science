{
 "cells": [
  {
   "cell_type": "markdown",
   "id": "97a844a7-0369-4c86-b3ff-d0b6bdba2f72",
   "metadata": {},
   "source": [
    "Q1, Create a vehicle class with an init method having instance variables as name_of_vehicle, max_speed\n",
    "and average_of_vehicle."
   ]
  },
  {
   "cell_type": "code",
   "execution_count": 3,
   "id": "bdf7523a-d991-4619-a45a-9f00ebb28379",
   "metadata": {},
   "outputs": [],
   "source": [
    "class vehicle:\n",
    "    def __init__(self,name_of_vehicle,max_speed,average_of_vehicle):\n",
    "        self.name_of_vehicle=name_of_vehicle\n",
    "        self.max_speed=max_speed\n",
    "        self.average_of_vehicle=average_of_vehicle\n",
    "    def display(self):\n",
    "         return self.name_of_vehicle,self.max_speed,self.average_of_vehicle"
   ]
  },
  {
   "cell_type": "code",
   "execution_count": 10,
   "id": "d136799b-112f-4e74-9c46-c3b867cbbe69",
   "metadata": {},
   "outputs": [
    {
     "name": "stdout",
     "output_type": "stream",
     "text": [
      "Verna\n",
      "200\n",
      "25\n"
     ]
    }
   ],
   "source": [
    "hyundai=vehicle(\"Verna\",200,25)\n",
    "print(hyundai.name_of_vehicle)\n",
    "print(hyundai.max_speed)\n",
    "print(hyundai.average_of_vehicle)"
   ]
  },
  {
   "cell_type": "markdown",
   "id": "d492b20b-ff45-43ad-9196-ce70a2b5950f",
   "metadata": {},
   "source": [
    "Q2. Create a child class car from the vehicle class created in Que 1, which will inherit the vehicle class.\n",
    "Create a method named seating_capacity which takes capacity as an argument and returns the name of\n",
    "the vehicle and its seating capacity."
   ]
  },
  {
   "cell_type": "code",
   "execution_count": 15,
   "id": "6e1878e9-bb4c-4f04-81a9-4404808be910",
   "metadata": {},
   "outputs": [],
   "source": [
    "class child(vehicle):\n",
    "    def seating_capacity(self,capacity):\n",
    "        self.seating_capacity=capacity\n",
    "        return self.name_of_vehicle,self.seating_capacity"
   ]
  },
  {
   "cell_type": "code",
   "execution_count": 16,
   "id": "11c14cf4-5684-4aa6-8be8-e9a054e405e5",
   "metadata": {},
   "outputs": [
    {
     "data": {
      "text/plain": [
       "('porsche', 4)"
      ]
     },
     "execution_count": 16,
     "metadata": {},
     "output_type": "execute_result"
    }
   ],
   "source": [
    "hyundai=child(\"porsche\",333,20)\n",
    "hyundai.seating_capacity(4)"
   ]
  },
  {
   "cell_type": "markdown",
   "id": "512aaaf8-8b75-4be5-ab90-b8e4cc98f9a7",
   "metadata": {},
   "source": [
    "Q3. What is multiple inheritance? Write a python code to demonstrate multiple inheritance."
   ]
  },
  {
   "cell_type": "markdown",
   "id": "596c5bfa-7f9d-457f-a734-03855845fcc5",
   "metadata": {},
   "source": [
    "Multiple inheritance is a feature of object-oriented programming where a subclass can inherit from more than one parent class. This allows the subclass to have all of the attributes and methods of both parent classes.\n",
    "\n",
    "Here's an example of a Python code that demonstrates multiple inheritance:"
   ]
  },
  {
   "cell_type": "code",
   "execution_count": 17,
   "id": "3923d5f7-26db-4261-b4b5-ece85aa76a51",
   "metadata": {},
   "outputs": [
    {
     "name": "stdout",
     "output_type": "stream",
     "text": [
      "pwskills\n",
      "company\n",
      "valuation\n"
     ]
    }
   ],
   "source": [
    "class class1:\n",
    "    def a(self):\n",
    "        print(\"pwskills\")\n",
    "        \n",
    "class class2 :\n",
    "    def b(self):\n",
    "        print(\"company\")\n",
    "        \n",
    "class class3(class1,class2):\n",
    "    def c(self):\n",
    "        print(\"valuation\")\n",
    "        \n",
    "o=class3()\n",
    "o.a()\n",
    "o.b()\n",
    "o.c()"
   ]
  },
  {
   "cell_type": "markdown",
   "id": "6d759a05-36ee-416d-8a82-1ec7498806d4",
   "metadata": {},
   "source": [
    "Q4. What are getter and setter in python? Create a class and create a getter and a setter method in this\n",
    "class."
   ]
  },
  {
   "cell_type": "markdown",
   "id": "9cde85cc-46ac-4072-bcbd-5f2caad4114e",
   "metadata": {},
   "source": [
    "Getters : These are the methods used in Object-Oriented Programming (OOPS) which helps to access the private attributes from a class.\n",
    "Setters : These are the methods used in OOPS feature which helps to set the value to private attributes in a class."
   ]
  },
  {
   "cell_type": "code",
   "execution_count": 18,
   "id": "384d6af9-e01a-4677-82be-ab662c3040aa",
   "metadata": {},
   "outputs": [
    {
     "name": "stdout",
     "output_type": "stream",
     "text": [
      "2023\n",
      "toyota \n",
      "\n",
      "2022\n",
      "ford\n"
     ]
    }
   ],
   "source": [
    "class car:\n",
    "    def __init__(self,year,make):\n",
    "        self.__year=year\n",
    "        self.__make=make\n",
    "        \n",
    "        \n",
    "    def get_year(self):\n",
    "        return self.__year\n",
    "    \n",
    "    def set_year(self,nyear):\n",
    "        self.__year=nyear\n",
    "        \n",
    "    def get_make(self):\n",
    "        return self.__make\n",
    "    \n",
    "    def set_make(self,nmake):\n",
    "        self.__make=nmake\n",
    "        \n",
    "        \n",
    "o=car(2023,\"toyota\")\n",
    "print(o.get_year())\n",
    "print(o.get_make(),\"\\n\")\n",
    "\n",
    "\n",
    "o.set_year(2022)\n",
    "o.set_make(\"ford\")\n",
    "       \n",
    "print(o.get_year())\n",
    "print(o.get_make())"
   ]
  },
  {
   "cell_type": "markdown",
   "id": "6063991c-f762-49bd-b482-8088e88f9db1",
   "metadata": {},
   "source": [
    "Q5.What is method overriding in python? Write a python code to demonstrate method overriding."
   ]
  },
  {
   "cell_type": "markdown",
   "id": "1349c9cc-49fb-41e3-a766-65ee584634fc",
   "metadata": {},
   "source": [
    "Method overriding is a mechanism in object-oriented programming that allows a subclass to provide its own implementation of a method that is already defined in its superclass. This means that when the method is called on the subclass object, the implementation in the subclass is executed instead of the implementation in the superclass."
   ]
  },
  {
   "cell_type": "code",
   "execution_count": 39,
   "id": "ddb0f257-d027-43c7-bac4-93839d594e18",
   "metadata": {},
   "outputs": [
    {
     "name": "stdout",
     "output_type": "stream",
     "text": [
      "phone is a useful device \n",
      "car helps in travelling \n"
     ]
    }
   ],
   "source": [
    "class phone :\n",
    "    def function(self):\n",
    "        print(\"phone is a useful device \")\n",
    "        \n",
    "class car :\n",
    "    def function(self):\n",
    "        print(\"car helps in travelling \")\n",
    "        \n",
    "p=phone()\n",
    "c=car()\n",
    "\n",
    "p.function()\n",
    "c.function()"
   ]
  }
 ],
 "metadata": {
  "kernelspec": {
   "display_name": "Python 3 (ipykernel)",
   "language": "python",
   "name": "python3"
  },
  "language_info": {
   "codemirror_mode": {
    "name": "ipython",
    "version": 3
   },
   "file_extension": ".py",
   "mimetype": "text/x-python",
   "name": "python",
   "nbconvert_exporter": "python",
   "pygments_lexer": "ipython3",
   "version": "3.12.0"
  }
 },
 "nbformat": 4,
 "nbformat_minor": 5
}
