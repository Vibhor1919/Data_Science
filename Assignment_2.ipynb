{
 "cells": [
  {
   "cell_type": "markdown",
   "id": "379eab7d-8cbd-420c-bec1-0f2abbf3c70c",
   "metadata": {},
   "source": [
    "Q1. How do you comment code in Python? What are the different types of comments?"
   ]
  },
  {
   "cell_type": "markdown",
   "id": "f73bb124-2216-4456-92e4-88478a68f209",
   "metadata": {},
   "source": [
    "We can comment code in python using # before the coding line begins. There are three types of comments: single-line, multi-line, and docstring comments. "
   ]
  },
  {
   "cell_type": "code",
   "execution_count": 4,
   "id": "00acee04-6a74-4d26-807e-ef91ae6def09",
   "metadata": {},
   "outputs": [],
   "source": [
    "# this is a single line comment\n",
    "\n",
    "# this \n",
    "# is\n",
    "# a\n",
    "# multi \n",
    "# line \n",
    "# comment\n",
    "\n",
    "def intro():\n",
    "    '''This is a docstring comment'''"
   ]
  },
  {
   "cell_type": "markdown",
   "id": "cd2efe8e-f6ff-4709-8dec-c0a634c03f93",
   "metadata": {},
   "source": [
    "Q2. What are variables in Python? How do you declare and assign values to variables?"
   ]
  },
  {
   "cell_type": "markdown",
   "id": "16eb0e2e-df21-4174-a21a-e7eb49272f31",
   "metadata": {},
   "source": [
    "A variable is a string of characters and numbers associated with a piece of information. The assignment operator, denoted by the “=” symbol, is the operator that is used to assign values to variables in Python. The line x=1 takes the known value, 1, and assigns that value to the variable with name “x”.\n",
    "There are many types of variables in python.These include int ,float , boolean, string, list, tuple, set and dictionary.\n",
    "These are assigned values as follows:\n",
    "x = 1\n",
    "y = 2.2\n",
    "z = True\n",
    "s = 'ABCD'\n",
    "l = [1,2,3,4.4,True]\n",
    "t = (1,2,3,\"Abcd\")\n",
    "set = {11,2,3}\n",
    "dict = {}"
   ]
  },
  {
   "cell_type": "markdown",
   "id": "2e00e85e-5383-444b-9cc9-f1c98dbd585b",
   "metadata": {},
   "source": [
    "Q3. How do you convert one data type to another in Python?"
   ]
  },
  {
   "cell_type": "markdown",
   "id": "6a430e34-b0a7-4f3f-8678-d617ead8742c",
   "metadata": {},
   "source": [
    "There are two type conversion in python.\n",
    "Implicit data type conversion and Explicit data type conversion. Python automatically performs implicit data type conversions.Explicit data type conversion has to be manually done by the user."
   ]
  },
  {
   "cell_type": "code",
   "execution_count": 6,
   "id": "8e465b89-07a3-41d3-ba71-d90f4525772b",
   "metadata": {},
   "outputs": [
    {
     "name": "stdout",
     "output_type": "stream",
     "text": [
      "Type of x  is <class 'int'>\n",
      "Type of y is <class 'float'>\n",
      "Type of z is <class 'float'>\n"
     ]
    }
   ],
   "source": [
    "# Implicit data type conversion example\n",
    "x = 10\n",
    "y = 10.6\n",
    "z = x+y\n",
    "print(\"Type of x  is\",type(x))\n",
    "print(\"Type of y is\",type(y))\n",
    "print(\"Type of z is\",type(z))"
   ]
  },
  {
   "cell_type": "code",
   "execution_count": 7,
   "id": "052e08a1-ac7b-47bc-b5f3-3297d363852b",
   "metadata": {},
   "outputs": [
    {
     "name": "stdout",
     "output_type": "stream",
     "text": [
      "After converting to integer base 2 : 18\n",
      "After converting to float : 10010.0\n"
     ]
    }
   ],
   "source": [
    "# Explicit data type conversions example\n",
    "# initializing string\n",
    "s = \"10010\"\n",
    " \n",
    "# printing string converting to int base 2\n",
    "c = int(s,2)\n",
    "print (\"After converting to integer base 2 : \", end=\"\")\n",
    "print (c)\n",
    " \n",
    "# printing string converting to float\n",
    "e = float(s)\n",
    "print (\"After converting to float : \", end=\"\")\n",
    "print (e)"
   ]
  },
  {
   "cell_type": "markdown",
   "id": "77fc22f1-9ca3-40a3-a15a-2b658896a116",
   "metadata": {},
   "source": [
    "Q4. How do you write and execute a Python script from the command line?"
   ]
  },
  {
   "cell_type": "markdown",
   "id": "4a00d405-bd93-49dd-b477-4feac4196acb",
   "metadata": {},
   "source": [
    "To run Python in the terminal, store it in a ‘.py’ file in the command line, we have to write the ‘python’ keyword before the file name in the command prompt. In this way we can run Python programs in cmd.\n",
    "example - python hello.py"
   ]
  },
  {
   "cell_type": "markdown",
   "id": "8103692b-87cf-4778-ba61-57634fe0370f",
   "metadata": {},
   "source": [
    "Q5. Given a list my_list = [1, 2, 3, 4, 5], write the code to slice the list and obtain the sub-list [2, 3]."
   ]
  },
  {
   "cell_type": "code",
   "execution_count": 9,
   "id": "cbb1648d-a5cb-47c5-bbea-30fdf3a64969",
   "metadata": {},
   "outputs": [
    {
     "name": "stdout",
     "output_type": "stream",
     "text": [
      "[2, 3]\n"
     ]
    }
   ],
   "source": [
    "my_list =[1,2,3,4,5]\n",
    "sub_list = my_list[1:3]\n",
    "print(sub_list)"
   ]
  },
  {
   "cell_type": "markdown",
   "id": "cbef3af8-885e-4c5e-a5b9-d167f7da9651",
   "metadata": {},
   "source": [
    "Q6. What is a complex number in mathematics, and how is it represented in Python?"
   ]
  },
  {
   "cell_type": "markdown",
   "id": "0cd714df-9365-4b39-bbe1-6e8a0959bdd1",
   "metadata": {},
   "source": [
    "Complex numbers are defined as numbers of the form x+iy, where x and y are real numbers and i = √-1. For example, 3+2i.\n",
    "It can be represent in python like 3+2j. 3 represents the real part of the number and 2j represents the imaginary part of the number.'j' should be used to represnt the imaginary part any other letter cannot be used to represent the imaginary part."
   ]
  },
  {
   "cell_type": "code",
   "execution_count": 12,
   "id": "a901616c-ffda-4356-80f2-aeb6d13d4801",
   "metadata": {},
   "outputs": [
    {
     "name": "stdout",
     "output_type": "stream",
     "text": [
      "3.0\n",
      "2.0\n"
     ]
    }
   ],
   "source": [
    "x = 3+2j\n",
    "print(x.real)\n",
    "print(x.imag)"
   ]
  },
  {
   "cell_type": "markdown",
   "id": "322a4b10-d9b7-4353-b7e0-a487e297d1a7",
   "metadata": {},
   "source": [
    "Q7. What is the correct way to declare a variable named age and assign the value 25 to it?\n"
   ]
  },
  {
   "cell_type": "code",
   "execution_count": 15,
   "id": "033acc2d-6505-4a7d-b33f-79580c31c07a",
   "metadata": {},
   "outputs": [
    {
     "name": "stdout",
     "output_type": "stream",
     "text": [
      "25\n"
     ]
    }
   ],
   "source": [
    "age = 25\n",
    "print(age)"
   ]
  },
  {
   "cell_type": "markdown",
   "id": "b1882cc8-1bbc-4c96-b11f-aa23b88eb1c4",
   "metadata": {},
   "source": [
    "Q8. Declare a variable named price and assign the value 9.99 to it. What data type does this variable\n",
    "belong to?"
   ]
  },
  {
   "cell_type": "code",
   "execution_count": 14,
   "id": "51e16778-90b6-4cff-9187-ec4a0507184e",
   "metadata": {},
   "outputs": [
    {
     "name": "stdout",
     "output_type": "stream",
     "text": [
      "9.99 <class 'float'>\n"
     ]
    }
   ],
   "source": [
    "price = 9.99\n",
    "print(price,type(price))\n",
    "# It belongs to float data type"
   ]
  },
  {
   "cell_type": "markdown",
   "id": "65f733e7-bdf7-4882-8d24-a72c861b74f8",
   "metadata": {},
   "source": [
    "Q9. Create a variable named name and assign your full name to it as a string. How would you print the\n",
    "value of this variable?"
   ]
  },
  {
   "cell_type": "code",
   "execution_count": 17,
   "id": "c0eaee1d-3823-4424-8be5-b67b5dd61173",
   "metadata": {},
   "outputs": [
    {
     "name": "stdout",
     "output_type": "stream",
     "text": [
      "Vibhor Srivastava\n"
     ]
    }
   ],
   "source": [
    "name = 'Vibhor Srivastava'\n",
    "print(name)"
   ]
  },
  {
   "cell_type": "markdown",
   "id": "35590994-166b-472e-b231-dffb7fe1e1ae",
   "metadata": {},
   "source": [
    "Q10. Given the string \"Hello, World!\", extract the substring \"World\"."
   ]
  },
  {
   "cell_type": "code",
   "execution_count": 19,
   "id": "e3079a47-c80f-4c32-86c0-0463e742a520",
   "metadata": {},
   "outputs": [
    {
     "name": "stdout",
     "output_type": "stream",
     "text": [
      "World\n"
     ]
    }
   ],
   "source": [
    "str =\"Hello,World!\"\n",
    "print(str[6:11])"
   ]
  },
  {
   "cell_type": "markdown",
   "id": "b6b7ee7f-ba42-4aff-a1ee-b9851264a0c6",
   "metadata": {},
   "source": [
    "Q11. Create a variable named \"is_student\" and assign it a boolean value indicating whether you are\n",
    "currently a student or not."
   ]
  },
  {
   "cell_type": "code",
   "execution_count": 21,
   "id": "d1fbd8a8-3ae9-4b07-91c2-a62501f4ff93",
   "metadata": {},
   "outputs": [
    {
     "name": "stdout",
     "output_type": "stream",
     "text": [
      "True\n"
     ]
    }
   ],
   "source": [
    "is_student = True\n",
    "print(is_student)"
   ]
  }
 ],
 "metadata": {
  "kernelspec": {
   "display_name": "Python 3 (ipykernel)",
   "language": "python",
   "name": "python3"
  },
  "language_info": {
   "codemirror_mode": {
    "name": "ipython",
    "version": 3
   },
   "file_extension": ".py",
   "mimetype": "text/x-python",
   "name": "python",
   "nbconvert_exporter": "python",
   "pygments_lexer": "ipython3",
   "version": "3.12.0"
  }
 },
 "nbformat": 4,
 "nbformat_minor": 5
}
