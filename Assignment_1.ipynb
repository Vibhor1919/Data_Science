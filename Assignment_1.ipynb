{
 "cells": [
  {
   "cell_type": "markdown",
   "id": "8310c57f-f308-4d7f-8345-24f4eb26f42f",
   "metadata": {},
   "source": [
    "Q1. Create one variable containing following type of data:\n",
    "(i) string\n",
    "(ii) list\n",
    "(iii) float\n",
    "(iv) tuple"
   ]
  },
  {
   "cell_type": "code",
   "execution_count": 2,
   "id": "37ef92b9-37fa-452e-8ed4-fa48a45934e7",
   "metadata": {},
   "outputs": [],
   "source": [
    "s ='Hello'\n",
    "l = [1,2,3,True,'hi',3.3]\n",
    "f = 3.3\n",
    "tup = ('hello','hi')"
   ]
  },
  {
   "cell_type": "markdown",
   "id": "01bf7380-c081-4752-a89b-9a7e7c4a14ab",
   "metadata": {},
   "source": [
    "Q2. Given are some following variables containing data:\n",
    "(i) var1 = ‘ ‘\n",
    "(ii) var2 = ‘[ DS , ML , Python]’\n",
    "(iii) var3 = [ ‘DS’ , ’ML’ , ‘Python’ ]\n",
    "(iv) var4 = 1"
   ]
  },
  {
   "cell_type": "markdown",
   "id": "aa52cb2e-8e76-4b9d-991b-f0eda4ab453d",
   "metadata": {},
   "source": [
    "string\n",
    "string\n",
    "list\n",
    "integer"
   ]
  },
  {
   "cell_type": "markdown",
   "id": "fa33b7da-2782-427c-95b9-d24b2041d5aa",
   "metadata": {},
   "source": [
    "Q3. Explain the use of the following operators using an example:\n",
    "(i) /\n",
    "(ii) %\n",
    "(iii) //\n",
    "(iv) **"
   ]
  },
  {
   "cell_type": "markdown",
   "id": "2a2f501c-8186-4cf5-bd05-04c62d173873",
   "metadata": {},
   "source": [
    " (i) / - give quotient of two numbers upto decimal places ex- 3/3=1.0 (ii) % - give reminder of two numbers ex-3%2=1 (iii) //- give quotient but only integer places ex-3/3=1 (iv) ** - it is used for calculating exponential of one on another number ex-3**3=27"
   ]
  },
  {
   "cell_type": "markdown",
   "id": "5aa2fc45-852d-485d-b874-f92c2045f3d7",
   "metadata": {},
   "source": [
    "Q4. Create a list of length 10 of your choice containing multiple types of data. Using for loop print the\n",
    "element and its data type."
   ]
  },
  {
   "cell_type": "code",
   "execution_count": 4,
   "id": "bfa2a178-e2b2-4d71-8e59-373c8dad9c6f",
   "metadata": {},
   "outputs": [
    {
     "name": "stdout",
     "output_type": "stream",
     "text": [
      "1\n",
      "2\n",
      "3\n",
      "4.4\n",
      "True\n",
      "False\n",
      "7\n",
      "Vibhor\n",
      "Lucknow\n",
      "10.0\n"
     ]
    }
   ],
   "source": [
    "l = [1,2,3,4.4,True,False,7,\"Vibhor\",\"Lucknow\",10.0]\n",
    "for i in l:\n",
    "    print(i)"
   ]
  },
  {
   "cell_type": "markdown",
   "id": "439b2478-ae1d-44eb-b08f-cbc95df4bc7c",
   "metadata": {},
   "source": [
    "Q5. Using a while loop, verify if the number A is purely divisible by number B and if so then how many\n",
    "times it can be divisible."
   ]
  },
  {
   "cell_type": "code",
   "execution_count": 8,
   "id": "0ced7aa4-507e-4065-b476-87f934c42a0b",
   "metadata": {},
   "outputs": [
    {
     "name": "stdin",
     "output_type": "stream",
     "text": [
      "Enter First Number 20\n",
      "Enter Second Number 5\n"
     ]
    },
    {
     "name": "stdout",
     "output_type": "stream",
     "text": [
      "Not divisible\n"
     ]
    }
   ],
   "source": [
    "a = int(input(\"Enter First Number\"))\n",
    "b = int(input(\"Enter Second Number\"))\n",
    "c = 0              \n",
    "if a/b==0:\n",
    "              while(a/b>=b and type(a/b)==int):\n",
    "                c=c+1\n",
    "                a=a/b\n",
    "              c\n",
    "else:\n",
    "  print(\"Not divisible\") \n",
    "\n"
   ]
  },
  {
   "cell_type": "markdown",
   "id": "2458c55d-6440-48e8-b575-7e3118c44a94",
   "metadata": {},
   "source": [
    "Q6. Create a list containing 25 int type data. Using for loop and if-else condition print if the element is\n",
    "divisible by 3 or not."
   ]
  },
  {
   "cell_type": "code",
   "execution_count": 12,
   "id": "3f11a47d-eb94-4314-a708-b67df70f5f81",
   "metadata": {},
   "outputs": [
    {
     "name": "stdout",
     "output_type": "stream",
     "text": [
      "3\n",
      "6\n",
      "9\n",
      "12\n",
      "15\n",
      "18\n",
      "21\n",
      "24\n"
     ]
    }
   ],
   "source": [
    "l=[1,2,3,4,5,6,7,8,9,10,11,12,13,14,15,16,17,18,19,20,21,22,23,24,25]\n",
    "for i in l: \n",
    "    if i%3==0:\n",
    "        print(i)\n",
    "    else:\n",
    "        pass"
   ]
  },
  {
   "cell_type": "markdown",
   "id": "4d459287-028c-4e4d-8713-ef0b4f3b6387",
   "metadata": {},
   "source": [
    "Q7. What do you understand about mutable and immutable data types? Give examples for both showing\n",
    "this property."
   ]
  },
  {
   "cell_type": "raw",
   "id": "187cfc3b-2584-4dc6-957d-8ed53271b572",
   "metadata": {},
   "source": [
    "The mutable objects can be changed to any value or state without adding a new object. Whereas, the immutable objects can not be changed to its value or state once it is created.In pyhton list is an example of mutable data type and string is an example of immutable data type"
   ]
  },
  {
   "cell_type": "code",
   "execution_count": 13,
   "id": "61768eca-3d37-4c79-9733-1da250c065d3",
   "metadata": {},
   "outputs": [
    {
     "data": {
      "text/plain": [
       "2"
      ]
     },
     "execution_count": 13,
     "metadata": {},
     "output_type": "execute_result"
    }
   ],
   "source": [
    "l =[1,2,3,4,5]\n",
    "l[1]"
   ]
  },
  {
   "cell_type": "code",
   "execution_count": 14,
   "id": "e2449720-e71e-43e1-8834-ca284073a5f9",
   "metadata": {},
   "outputs": [
    {
     "name": "stdout",
     "output_type": "stream",
     "text": [
      "[1, 1, 3, 4, 5]\n"
     ]
    }
   ],
   "source": [
    "l[1]=1\n",
    "print(l)"
   ]
  },
  {
   "cell_type": "code",
   "execution_count": 15,
   "id": "14f01529-536b-4a08-a8f2-a0895d3548b2",
   "metadata": {},
   "outputs": [
    {
     "data": {
      "text/plain": [
       "'i'"
      ]
     },
     "execution_count": 15,
     "metadata": {},
     "output_type": "execute_result"
    }
   ],
   "source": [
    "s = \"vibhor\"\n",
    "s[1]"
   ]
  },
  {
   "cell_type": "code",
   "execution_count": 16,
   "id": "881d03c7-e97f-44c3-af91-16c2f5c20032",
   "metadata": {},
   "outputs": [
    {
     "ename": "TypeError",
     "evalue": "'str' object does not support item assignment",
     "output_type": "error",
     "traceback": [
      "\u001b[1;31m---------------------------------------------------------------------------\u001b[0m",
      "\u001b[1;31mTypeError\u001b[0m                                 Traceback (most recent call last)",
      "Cell \u001b[1;32mIn[16], line 1\u001b[0m\n\u001b[1;32m----> 1\u001b[0m \u001b[43ms\u001b[49m\u001b[43m[\u001b[49m\u001b[38;5;241;43m1\u001b[39;49m\u001b[43m]\u001b[49m \u001b[38;5;241m=\u001b[39m \u001b[38;5;241m2\u001b[39m\n\u001b[0;32m      2\u001b[0m \u001b[38;5;28mprint\u001b[39m(\u001b[38;5;28mstr\u001b[39m)\n",
      "\u001b[1;31mTypeError\u001b[0m: 'str' object does not support item assignment"
     ]
    }
   ],
   "source": [
    "s[1] = 2\n",
    "print(str)"
   ]
  }
 ],
 "metadata": {
  "kernelspec": {
   "display_name": "Python 3 (ipykernel)",
   "language": "python",
   "name": "python3"
  },
  "language_info": {
   "codemirror_mode": {
    "name": "ipython",
    "version": 3
   },
   "file_extension": ".py",
   "mimetype": "text/x-python",
   "name": "python",
   "nbconvert_exporter": "python",
   "pygments_lexer": "ipython3",
   "version": "3.12.0"
  }
 },
 "nbformat": 4,
 "nbformat_minor": 5
}
