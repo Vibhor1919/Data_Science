{
 "cells": [
  {
   "cell_type": "markdown",
   "id": "84aa3c56-91e6-409e-9d28-c43676f7ec68",
   "metadata": {},
   "source": [
    "Q1. Which keyword is used to create a function? Create a function to return a list of odd numbers in the\n",
    "range of 1 to 25."
   ]
  },
  {
   "cell_type": "markdown",
   "id": "a5b8c5d7-f24f-4d99-ba1a-287e01c553fa",
   "metadata": {},
   "source": [
    "def keyword is used to create a function."
   ]
  },
  {
   "cell_type": "code",
   "execution_count": 5,
   "id": "6f5766ec-34c7-4d00-a2da-edb1fb5da9a2",
   "metadata": {},
   "outputs": [],
   "source": [
    "def odd_numbers():\n",
    "    l =[]\n",
    "    for i in range(1,25):\n",
    "        if(i%2!=0):\n",
    "            l.append(i)        "
   ]
  },
  {
   "cell_type": "code",
   "execution_count": 8,
   "id": "eeddb137-25ca-4a87-a5b8-dba1a3ae5024",
   "metadata": {},
   "outputs": [
    {
     "name": "stdout",
     "output_type": "stream",
     "text": [
      "[1, 3, 5, 7, 9, 11, 13, 15, 17, 19, 21, 23]\n"
     ]
    }
   ],
   "source": [
    "odd_numbers()"
   ]
  },
  {
   "cell_type": "markdown",
   "id": "5538cc23-8631-4447-8a49-b7ea3e3f5b3e",
   "metadata": {},
   "source": [
    "Q2. Why *args and **kwargs is used in some functions? Create a function each for *args and **kwargs to\n",
    "demonstrate their use."
   ]
  },
  {
   "cell_type": "markdown",
   "id": "9395767b-e52d-4433-9bb5-8fa0e844bc24",
   "metadata": {},
   "source": [
    "*args is used so that we can pass n numbers of arguments inside a function.**kwargs is used to pass a keyworded, variable-length argument dictionary to a function.\n"
   ]
  },
  {
   "cell_type": "code",
   "execution_count": 9,
   "id": "8c61c9e0-86a7-4475-99d1-1c4b19c2b5d0",
   "metadata": {},
   "outputs": [],
   "source": [
    "def func1(*args):\n",
    "    sum =0\n",
    "    for i in args:\n",
    "        sum = sum +i\n",
    "    print(sum)    "
   ]
  },
  {
   "cell_type": "code",
   "execution_count": 10,
   "id": "c4a0d012-c70a-47cd-a7eb-abf38d38496f",
   "metadata": {},
   "outputs": [
    {
     "name": "stdout",
     "output_type": "stream",
     "text": [
      "45\n"
     ]
    }
   ],
   "source": [
    "func1(1,2,3,4,5,6,7,8,9)"
   ]
  },
  {
   "cell_type": "code",
   "execution_count": 12,
   "id": "83b467c2-6c19-4320-b64f-30839093bf78",
   "metadata": {},
   "outputs": [],
   "source": [
    "def func2(**kwargs):\n",
    "    print(kwargs)"
   ]
  },
  {
   "cell_type": "code",
   "execution_count": 13,
   "id": "cfe0f69f-51d8-4b88-aed1-0d495513d9be",
   "metadata": {},
   "outputs": [
    {
     "name": "stdout",
     "output_type": "stream",
     "text": [
      "{'a': 'Shark', 'b': 4.5, 'c': True}\n"
     ]
    }
   ],
   "source": [
    "func2(a=\"Shark\", b=4.5, c=True)"
   ]
  },
  {
   "cell_type": "markdown",
   "id": "d92793b2-2e26-4e71-86b6-db312868a0de",
   "metadata": {},
   "source": [
    "Q3. What is an iterator in python? Name the method used to initialise the iterator object and the method\n",
    "used for iteration. Use these methods to print the first five elements of the given list [2, 4, 6, 8, 10, 12, 14, 16,\n",
    "18, 20]."
   ]
  },
  {
   "cell_type": "markdown",
   "id": "08b9dab0-20f2-4fa7-871d-be7343cb0295",
   "metadata": {},
   "source": [
    "An iterator is an object that allows you to iterate over collections of data, such as lists, tuples, dictionaries, and sets.\n",
    "To initialize an iterator object in Python, you need to call the iter() function on an iterable object (e.g. list, tuple, dictionary, etc.). The iter() function returns an iterator object.\n",
    "\n",
    "To iterate over the elements of an iterator object in Python, you need to call the next() function on the iterator object. The next() function returns the next element in the iterator. When there are no more elements in the iterator, the next() function raises the StopIteration exception."
   ]
  },
  {
   "cell_type": "code",
   "execution_count": 14,
   "id": "3268ceb0-2e0b-4a4d-a2b6-5f626be471b2",
   "metadata": {},
   "outputs": [
    {
     "name": "stdout",
     "output_type": "stream",
     "text": [
      "2\n",
      "4\n",
      "6\n",
      "8\n",
      "10\n"
     ]
    }
   ],
   "source": [
    "l=[2, 4, 6, 8, 10, 12, 14, 16, 18, 20]\n",
    "a=iter(l)\n",
    "for x in range(1,6):\n",
    "    b=(next(a))\n",
    "    print(b)"
   ]
  },
  {
   "cell_type": "markdown",
   "id": "7b5c88ba-eaf9-46d9-97e8-51a9e936a5a8",
   "metadata": {},
   "source": [
    "Q4. What is a generator function in python? Why yield keyword is used? Give an example of a generator\n",
    "function."
   ]
  },
  {
   "cell_type": "markdown",
   "id": "1d853791-b3e4-4a37-b994-22368d7e341c",
   "metadata": {},
   "source": [
    "A Python generator function allows you to declare a function that behaves like an iterator, providing a faster and easier way to create iterators.\n",
    "When you call a function that has a yield statement, as soon as a yield is encountered, the execution of the function halts and returns a generator iterator object instead of simply returning a value. The state of the function, which includes variable bindings, the instruction pointer, the internal stack, and a few other things, is saved."
   ]
  },
  {
   "cell_type": "code",
   "execution_count": 39,
   "id": "9754112a-0372-4b67-bfeb-1868d9ea8b86",
   "metadata": {},
   "outputs": [],
   "source": [
    "def testt(a):\n",
    "    a,b = 0,1\n",
    "    for i in range(a):\n",
    "        yield a\n",
    "        a,b = b,a+b"
   ]
  },
  {
   "cell_type": "markdown",
   "id": "478271be-e03f-4c24-8363-517f814de7ab",
   "metadata": {},
   "source": [
    "Q5. Create a generator function for prime numbers less than 1000. Use the next() method to print the\n",
    "first 20 prime numbers."
   ]
  },
  {
   "cell_type": "code",
   "execution_count": 38,
   "id": "c220d47f-1f09-42ea-ad0c-55034fe97361",
   "metadata": {},
   "outputs": [
    {
     "name": "stdout",
     "output_type": "stream",
     "text": [
      "2 3 5 7 11 13 17 19 23 29 31 37 41 43 47 53 59 61 67 71 "
     ]
    }
   ],
   "source": [
    "def funct():\n",
    "    for z in range(2,1000):\n",
    "        for y in range(2,z):\n",
    "            if z%y==0:\n",
    "                break\n",
    "        else :\n",
    "            yield z\n",
    "            \n",
    "a=funct()\n",
    "for x in range(2,22):\n",
    "    print(next(a),end=\" \")"
   ]
  }
 ],
 "metadata": {
  "kernelspec": {
   "display_name": "Python 3 (ipykernel)",
   "language": "python",
   "name": "python3"
  },
  "language_info": {
   "codemirror_mode": {
    "name": "ipython",
    "version": 3
   },
   "file_extension": ".py",
   "mimetype": "text/x-python",
   "name": "python",
   "nbconvert_exporter": "python",
   "pygments_lexer": "ipython3",
   "version": "3.12.0"
  }
 },
 "nbformat": 4,
 "nbformat_minor": 5
}
